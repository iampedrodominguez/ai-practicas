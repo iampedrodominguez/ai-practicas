{
 "cells": [
  {
   "cell_type": "markdown",
   "metadata": {},
   "source": [
    "# Multilayer Perceptron (To complete)"
   ]
  },
  {
   "cell_type": "markdown",
   "metadata": {},
   "source": [
    "## Libraries"
   ]
  },
  {
   "cell_type": "code",
   "execution_count": 41,
   "metadata": {},
   "outputs": [],
   "source": [
    "import pandas as pd\n",
    "import numpy as np"
   ]
  },
  {
   "cell_type": "markdown",
   "metadata": {},
   "source": [
    "## Dataset"
   ]
  },
  {
   "cell_type": "code",
   "execution_count": 42,
   "metadata": {},
   "outputs": [],
   "source": [
    "## Iris dataset\n",
    "data =  pd.read_csv('iris.csv')\n",
    "\n",
    "#Convertir training data to numpy\n",
    "training = data.to_numpy()[:int(len(data)*0.7) ]\n",
    "training_x = training[:,0:4]\n",
    "training_y = training[:,4]\n",
    "dic = {'setosa' : [1,0,0], 'versicolor' : [0,1,0], 'virginica' : [0,0,1]}\n",
    "training_y = [dic[y] for y in training_y]\n",
    "training_y = np.array(training_y)\n",
    "\n",
    "#print(training_y)\n",
    "\n",
    "#Convertir testing data to numpy\n",
    "test = data.to_numpy()[int(len(data)*0.7): ]\n",
    "test_x = test[:,0:4]\n",
    "test_y = test[:,4]\n",
    "test_y = [dic[y] for y in test_y]\n",
    "test_y = np.array(training_y)\n",
    "\n",
    "#print(test_y)\n",
    "\n",
    "#Inicialización\n",
    "vector_weights = []\n",
    "activation_functions = []\n",
    "vector_layers = []\n",
    "vector_netas = []\n",
    "n_layers = 5\n",
    "vector_deltas = []\n",
    "vector_derivates = []"
   ]
  },
  {
   "cell_type": "markdown",
   "metadata": {},
   "source": [
    "## MLP matrix"
   ]
  },
  {
   "cell_type": "code",
   "execution_count": 43,
   "metadata": {},
   "outputs": [],
   "source": [
    "#Crea la matriz de pesos de la red neuronal\n",
    "def create_nn(layer_sizes):\n",
    "    n_layers = len(layer_sizes)\n",
    "    for layer in range(n_layers-1):\n",
    "        vector_weights.append(np.ones((layer_sizes[layer] + 1, layer_sizes[layer + 1])))"
   ]
  },
  {
   "cell_type": "markdown",
   "metadata": {},
   "source": [
    "### Activation functions"
   ]
  },
  {
   "cell_type": "code",
   "execution_count": 45,
   "metadata": {},
   "outputs": [],
   "source": [
    "#Función de activación logística\n",
    "#Definida como \\frac{1}{1 + e^(-net)}\n",
    "\n",
    "def logistic_function(net):\n",
    "    return 1/(1+np.exp(-1*net))"
   ]
  },
  {
   "cell_type": "code",
   "execution_count": 46,
   "metadata": {},
   "outputs": [],
   "source": [
    "#Guarda las funciones de activación para cada capa de la red neuronal\n",
    "def fill_activation_functions(*_functions):\n",
    "    activation_functions = list(_functions)\n",
    "    return activation_functions"
   ]
  },
  {
   "cell_type": "markdown",
   "metadata": {},
   "source": [
    "### Forward (Done)"
   ]
  },
  {
   "cell_type": "code",
   "execution_count": 44,
   "metadata": {},
   "outputs": [],
   "source": [
    "#Forward para todos las capas de la red neuronal. \n",
    "#Recibe X: Input inicial, W: Matriz con los pesos de cada capa y la lista de funciones de activación. \n",
    "#Retorna Y: resultado de la red neuronal\n",
    "\n",
    "def forward_process(X, W, activation_functions):\n",
    "    \n",
    "    global vector_layers \n",
    "    vector_layers = []\n",
    "    global vector_netas\n",
    "    vector_netas= []\n",
    "    Y_output = X\n",
    "    vector_layers.append(Y_output)\n",
    "    vector_netas.append(Y_output)\n",
    "    \n",
    "    #aumentando el bias\n",
    "    Y_output = np.append(Y_output,[1])\n",
    "\n",
    "    for layer in range(n_layers - 1):\n",
    "        net = np.dot(Y_output, W[layer])\n",
    "        vector_netas.append(net)\n",
    "        Y_output = activation_functions[layer](net)\n",
    "\n",
    "        # aumentando el bias\n",
    "        Y_output = np.append(Y_output,[1])\n",
    "        vector_layers.append(Y_output)\n",
    "        \n",
    "    return Y_output[:-1]"
   ]
  },
  {
   "cell_type": "markdown",
   "metadata": {},
   "source": [
    "### Backpropagation (To complete)"
   ]
  },
  {
   "cell_type": "code",
   "execution_count": 47,
   "metadata": {},
   "outputs": [],
   "source": [
    "#Backward para todas las capas de la red neuronal\n",
    "def backward_process(X, Y_output, Y_desired):\n",
    "\n",
    "    global vector_derivates \n",
    "    vector_derivates = []\n",
    "    \n",
    "    #Find delta to use in all derivates\n",
    "    #Defined as (S^o - S^d)*(S^o)*(1-S^o)\n",
    "    \n",
    "    Y_output = forward_process(X, vector_weights, activation_functions)\n",
    "    delta1 = np.multiply(logistic_function(vector_netas[-1]), 1 -logistic_function(vector_netas[-1]))\n",
    "    delta1= np.multiply((Y_output - Y_desired), delta1)\n",
    "\n",
    "    for i in range(n_layers-2,-1,-1):\n",
    "       z=vector_netas[i]\n",
    "       z1=np.multiply(logistic_function(z), np.ones(np.shape(z)) -logistic_function(z))\n",
    "\n",
    "       delta1 = np.multiply(np.dot(vector_weights[i][:-1],delta1.T).T,z1)\n",
    "       vector_derivates.append(np.multiply(delta1,vector_layers[i][-1]))"
   ]
  },
  {
   "cell_type": "code",
   "execution_count": 50,
   "metadata": {},
   "outputs": [
    {
     "name": "stdout",
     "output_type": "stream",
     "text": [
      "0.9999999999999982\n",
      "0.9999999999999982\n",
      "0.9999999999999982\n"
     ]
    }
   ],
   "source": [
    "create_nn([len(training[0][:-1]), 7, 5, 33, 3])\n",
    "\n",
    "#Se organizan las funciones de activación para cada capa\n",
    "activation_functions = fill_activation_functions(logistic_function, logistic_function, logistic_function,logistic_function,logistic_function,logistic_function,logistic_function)\n",
    "\n",
    "\n",
    "x = forward_process(np.ones(len(training[0][:-1])),vector_weights, activation_functions)\n",
    "\n",
    "#To complete\n",
    "y = backward_process(np.ones(len(training[0][:-1])),x, [1,1,1])"
   ]
  },
  {
   "cell_type": "code",
   "execution_count": 23,
   "metadata": {},
   "outputs": [
    {
     "name": "stdout",
     "output_type": "stream",
     "text": [
      "None\n"
     ]
    }
   ],
   "source": [
    "print(y)"
   ]
  }
 ],
 "metadata": {
  "kernelspec": {
   "display_name": "Python 3.9.2 ('venv': venv)",
   "language": "python",
   "name": "python3"
  },
  "language_info": {
   "codemirror_mode": {
    "name": "ipython",
    "version": 3
   },
   "file_extension": ".py",
   "mimetype": "text/x-python",
   "name": "python",
   "nbconvert_exporter": "python",
   "pygments_lexer": "ipython3",
   "version": "3.9.2"
  },
  "orig_nbformat": 4,
  "vscode": {
   "interpreter": {
    "hash": "f1bc525d6683a70cab04521a5d7e07f564e6daf763903394e4ba3aa8228a00ff"
   }
  }
 },
 "nbformat": 4,
 "nbformat_minor": 2
}
